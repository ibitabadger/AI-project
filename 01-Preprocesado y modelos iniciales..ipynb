{
  "nbformat": 4,
  "nbformat_minor": 0,
  "metadata": {
    "colab": {
      "provenance": [],
      "include_colab_link": true
    },
    "kernelspec": {
      "name": "python3",
      "display_name": "Python 3"
    },
    "language_info": {
      "name": "python"
    }
  },
  "cells": [
    {
      "cell_type": "markdown",
      "metadata": {
        "id": "view-in-github",
        "colab_type": "text"
      },
      "source": [
        "<a href=\"https://colab.research.google.com/github/ibitabadger/AI-project/blob/main/01-Preprocesado%20y%20modelos%20iniciales..ipynb\" target=\"_parent\"><img src=\"https://colab.research.google.com/assets/colab-badge.svg\" alt=\"Open In Colab\"/></a>"
      ]
    },
    {
      "cell_type": "code",
      "execution_count": null,
      "metadata": {
        "colab": {
          "base_uri": "https://localhost:8080/"
        },
        "id": "QGE6CoVCi7mT",
        "outputId": "83552f1b-e02f-481c-a3ff-e7c3176fed8f"
      },
      "outputs": [
        {
          "output_type": "stream",
          "name": "stderr",
          "text": [
            "Downloading...\n",
            "From: https://drive.google.com/uc?id=1AFaagbKMpY07iyvOsPpo8ZPmCMV8J0Pb\n",
            "To: /content/data.csv\n",
            "100%|██████████| 98.4M/98.4M [00:00<00:00, 248MB/s]\n"
          ]
        },
        {
          "output_type": "stream",
          "name": "stdout",
          "text": [
            "   FORMULARIO  DEPTO  MUNIC  ZONA  COMUNA  BARRIO   NOMBARRIO  VEREDA  \\\n",
            "0      296071      5      1     1       5     508  BELALCAZAR     0.0   \n",
            "1      296071      5      1     1       5     508  BELALCAZAR     0.0   \n",
            "2     2000000      5      1     1      16    1610   EL RINCON     0.0   \n",
            "3     2000000      5      1     1      16    1610   EL RINCON     0.0   \n",
            "4     2000000      5      1     1      16    1610   EL RINCON     0.0   \n",
            "\n",
            "            NOMVEREDA  TELEFONO  ...  GRADO  NIVEL  ACTIVI  BUSCANDO  PERCIBE  \\\n",
            "0  BARRIO ZONA URBANA       1.0  ...    4.0    1.0     1.0       0.0      2.0   \n",
            "1  BARRIO ZONA URBANA       1.0  ...    4.0    1.0     1.0       0.0      1.0   \n",
            "2  BARRIO ZONA URBANA       1.0  ...    5.0    2.0     4.0       0.0      1.0   \n",
            "3  BARRIO ZONA URBANA       1.0  ...    6.0    2.0     3.0       0.0      1.0   \n",
            "4  BARRIO ZONA URBANA       1.0  ...    1.0    1.0     3.0       0.0      2.0   \n",
            "\n",
            "   INGRESOS  EXTRANJERO  PAGAPOR  SERDOMES  PUNTAJE  \n",
            "0       0.0         2.0      2.0       2.0    38.89  \n",
            "1  500000.0         2.0      2.0       2.0    38.89  \n",
            "2  600000.0         2.0      2.0       2.0    57.27  \n",
            "3  680000.0         2.0      2.0       2.0    57.27  \n",
            "4       0.0         2.0      2.0       2.0    57.27  \n",
            "\n",
            "[5 rows x 79 columns]\n"
          ]
        }
      ],
      "source": [
        "#Lectura de los datos almacenados en google drive\n",
        "#Los datos pueden ser encontrados en el siguiente link de google drive:\n",
        "#https://drive.google.com/uc?id=1AFaagbKMpY07iyvOsPpo8ZPmCMV8J0Pb\n",
        "\n",
        "import pandas as pd\n",
        "import gdown\n",
        "\n",
        "# URL de Google Drive del archivo compartido\n",
        "google_drive_url = 'https://drive.google.com/uc?id=1AFaagbKMpY07iyvOsPpo8ZPmCMV8J0Pb'\n",
        "\n",
        "# ID del archivo es \"1AFaagbKMpY07iyvOsPpo8ZPmCMV8J0Pb\"\n",
        "\n",
        "# Descargar el archivo desde Google Drive\n",
        "output_file = 'data.csv'\n",
        "gdown.download(google_drive_url, output_file, quiet=False)\n",
        "\n",
        "# Crear un DataFrame a partir del archivo descargado\n",
        "df = pd.read_csv(output_file, delimiter=';')\n",
        "\n",
        "# Impresión del dataframe\n",
        "print(df.head())\n",
        "\n"
      ]
    },
    {
      "cell_type": "code",
      "source": [
        "import pandas as pd\n",
        "import seaborn as sns\n",
        "import numpy as np\n",
        "import matplotlib.pyplot as plt\n",
        "%matplotlib inline\n",
        "\n",
        "\n",
        "#Elección de columnas consideradas como no relevantes y eliminación de las mismas\n",
        "columns = ['FORMULARIO', 'SERDOMES', 'EXTRANJERO', 'TIPOESTA', 'EMBARAZA', 'CONYUVIVE', 'TRACTOR', 'ORDEN', 'CUANHORAS', 'CUANDI',  'FECHA',\n",
        "           'DEPTO', 'BARRIO', 'VEREDA', 'PARED', 'PISO', 'USANITAR', 'USOSANI', 'AGUA', 'LLEGA', 'SUMINIS', 'CUANHORAS', 'PREPARAN']\n",
        "df = df.drop(columns, axis=1)\n",
        "\n",
        "#Se guarda los datos en un nuevo archivo\n",
        "df.to_csv('datos_nuevos.csv', index=False)\n",
        "df = pd.read_csv('datos_nuevos.csv')\n",
        "\n"
      ],
      "metadata": {
        "id": "CBtf4xqMYy5Q"
      },
      "execution_count": null,
      "outputs": []
    },
    {
      "cell_type": "code",
      "source": [
        "#Se evalúan columnas con datos nulos de origen y se elimina el archivo 447871, por contener datos nulos\n",
        "condicion = df[['NOMBARRIO', 'NOMVEREDA', 'TELEFONO', 'VIVIENDA', 'ENERGIA', 'ALCANTA', 'GAS', 'BASURA', 'ACUEDUC', 'ESTRATO', 'ELIMBASURA', 'TCUARTOSVI', 'THOGAR', 'HOGAR', 'TENEVIV', 'TCUARTOS', 'TDORMIR', 'SANITAR', 'TSANITAR', 'DUCHA', 'COCINA', 'COCINAN', 'ALUMBRA', 'USOTELE', 'NEVERA', 'LAVADORA', 'TVCOLOR', 'TVCABLE', 'CALENTA', 'HORNO', 'AIRE', 'COMPUTADOR', 'EQUIPO', 'MOTO', 'AUTO1', 'BIERAICES', 'TPERSONA', 'TIPODOC', 'PARENTES', 'ESTCIVIL', 'HIJOSDE', 'SEXO', 'FECHANTO', 'DISCAPA', 'CARNET', 'ASISTE', 'GRADO', 'NIVEL', 'ACTIVI', 'BUSCANDO', 'PERCIBE', 'INGRESOS', 'PAGAPOR', 'PUNTAJE']].isnull().any(axis=1)\n",
        "registro_especifico = df[condicion]\n",
        "print(registro_especifico)\n",
        "df = df.drop(447871)"
      ],
      "metadata": {
        "colab": {
          "base_uri": "https://localhost:8080/"
        },
        "id": "-vQ63uXrP7dL",
        "outputId": "ef12413f-9357-464d-dd02-ea3ee324505b"
      },
      "execution_count": null,
      "outputs": [
        {
          "output_type": "stream",
          "name": "stdout",
          "text": [
            "        MUNIC  ZONA  COMUNA NOMBARRIO NOMVEREDA  TELEFONO  VIVIENDA  ENERGIA  \\\n",
            "447871      1     1       6       NaN       NaN       NaN       NaN      NaN   \n",
            "\n",
            "        ALCANTA  GAS  ...  CARNET  ASISTE  GRADO  NIVEL  ACTIVI  BUSCANDO  \\\n",
            "447871      NaN  NaN  ...     NaN     NaN    NaN    NaN     NaN       NaN   \n",
            "\n",
            "        PERCIBE  INGRESOS  PAGAPOR  PUNTAJE  \n",
            "447871      NaN       NaN      NaN      NaN  \n",
            "\n",
            "[1 rows x 57 columns]\n"
          ]
        }
      ]
    },
    {
      "cell_type": "code",
      "source": [
        "#Verificación de que ninguna columna contenga datos nulos\n",
        "for columna in df.columns:\n",
        "    cantidad_nulos = df[columna].isnull().sum()\n",
        "    print(f\"Columna '{columna}': {cantidad_nulos} valores nulos\")\n"
      ],
      "metadata": {
        "colab": {
          "base_uri": "https://localhost:8080/"
        },
        "id": "qEf04Ht-O01h",
        "outputId": "4720f886-bbe6-4c95-da0c-5255b6f64dca"
      },
      "execution_count": null,
      "outputs": [
        {
          "output_type": "stream",
          "name": "stdout",
          "text": [
            "Columna 'MUNIC': 0 valores nulos\n",
            "Columna 'ZONA': 0 valores nulos\n",
            "Columna 'COMUNA': 0 valores nulos\n",
            "Columna 'NOMBARRIO': 0 valores nulos\n",
            "Columna 'NOMVEREDA': 0 valores nulos\n",
            "Columna 'TELEFONO': 0 valores nulos\n",
            "Columna 'VIVIENDA': 0 valores nulos\n",
            "Columna 'ENERGIA': 0 valores nulos\n",
            "Columna 'ALCANTA': 0 valores nulos\n",
            "Columna 'GAS': 0 valores nulos\n",
            "Columna 'BASURA': 0 valores nulos\n",
            "Columna 'ACUEDUC': 0 valores nulos\n",
            "Columna 'ESTRATO': 0 valores nulos\n",
            "Columna 'ELIMBASURA': 0 valores nulos\n",
            "Columna 'TCUARTOSVI': 0 valores nulos\n",
            "Columna 'THOGAR': 0 valores nulos\n",
            "Columna 'HOGAR': 0 valores nulos\n",
            "Columna 'TENEVIV': 0 valores nulos\n",
            "Columna 'TCUARTOS': 0 valores nulos\n",
            "Columna 'TDORMIR': 0 valores nulos\n",
            "Columna 'SANITAR': 0 valores nulos\n",
            "Columna 'TSANITAR': 0 valores nulos\n",
            "Columna 'DUCHA': 0 valores nulos\n",
            "Columna 'COCINA': 0 valores nulos\n",
            "Columna 'COCINAN': 0 valores nulos\n",
            "Columna 'ALUMBRA': 0 valores nulos\n",
            "Columna 'USOTELE': 0 valores nulos\n",
            "Columna 'NEVERA': 0 valores nulos\n",
            "Columna 'LAVADORA': 0 valores nulos\n",
            "Columna 'TVCOLOR': 0 valores nulos\n",
            "Columna 'TVCABLE': 0 valores nulos\n",
            "Columna 'CALENTA': 0 valores nulos\n",
            "Columna 'HORNO': 0 valores nulos\n",
            "Columna 'AIRE': 0 valores nulos\n",
            "Columna 'COMPUTADOR': 0 valores nulos\n",
            "Columna 'EQUIPO': 0 valores nulos\n",
            "Columna 'MOTO': 0 valores nulos\n",
            "Columna 'AUTO1': 0 valores nulos\n",
            "Columna 'BIERAICES': 0 valores nulos\n",
            "Columna 'TPERSONA': 0 valores nulos\n",
            "Columna 'TIPODOC': 0 valores nulos\n",
            "Columna 'PARENTES': 0 valores nulos\n",
            "Columna 'ESTCIVIL': 0 valores nulos\n",
            "Columna 'HIJOSDE': 0 valores nulos\n",
            "Columna 'SEXO': 0 valores nulos\n",
            "Columna 'FECHANTO': 0 valores nulos\n",
            "Columna 'DISCAPA': 0 valores nulos\n",
            "Columna 'CARNET': 0 valores nulos\n",
            "Columna 'ASISTE': 0 valores nulos\n",
            "Columna 'GRADO': 0 valores nulos\n",
            "Columna 'NIVEL': 0 valores nulos\n",
            "Columna 'ACTIVI': 0 valores nulos\n",
            "Columna 'BUSCANDO': 0 valores nulos\n",
            "Columna 'PERCIBE': 0 valores nulos\n",
            "Columna 'INGRESOS': 0 valores nulos\n",
            "Columna 'PAGAPOR': 0 valores nulos\n",
            "Columna 'PUNTAJE': 0 valores nulos\n"
          ]
        }
      ]
    },
    {
      "cell_type": "code",
      "source": [
        "\n",
        "import pandas as pd\n",
        "import random\n",
        "\n",
        "\n",
        "# Número de datos a reemplazar con NaN por columna\n",
        "cantidad_a_reemplazar = 24000  #\n",
        "\n",
        "# Utilizar un bucle while para reemplazar valores aleatorios con NaN\n",
        "cont = 0\n",
        "while cont < cantidad_a_reemplazar:\n",
        "    # Generar un índice aleatorio\n",
        "    indice_a_actualizar = random.randint(0, df.shape[0] - 1)\n",
        "    # Reemplazar el valor en el índice con NaN\n",
        "    df.at[indice_a_actualizar, 'BUSCANDO'] = pd.NA\n",
        "    cont += 1\n",
        "\n",
        "\n",
        "cont1 = 0\n",
        "while cont1 < cantidad_a_reemplazar:\n",
        "    # Generar un índice aleatorio\n",
        "    indice_a_actualizar = random.randint(0, df.shape[0] - 1)\n",
        "    # Reemplazar el valor en el índice con NaN\n",
        "    df.at[indice_a_actualizar, 'TSANITAR'] = pd.NA\n",
        "    cont1 += 1\n",
        "\n",
        "cont2 = 0\n",
        "while cont2 < cantidad_a_reemplazar:\n",
        "    # Generar un índice aleatorio\n",
        "    indice_a_actualizar = random.randint(0, df.shape[0] - 1)\n",
        "    # Reemplazar el valor en el índice con NaN\n",
        "    df.at[indice_a_actualizar, 'TPERSONA'] = pd.NA\n",
        "    cont2 += 1\n",
        "\n",
        "df.to_csv('datos_nuevos.csv', index=False)\n",
        "df = pd.read_csv('datos_nuevos.csv')\n"
      ],
      "metadata": {
        "id": "4XCZVhIGCZJG"
      },
      "execution_count": null,
      "outputs": []
    },
    {
      "cell_type": "code",
      "source": [
        "#Columnas con nulos\n",
        "for columna in df.columns:\n",
        "    cantidad_nulos = df[columna].isnull().sum()\n",
        "    print(f\"Columna '{columna}': {cantidad_nulos} valores nulos\")"
      ],
      "metadata": {
        "id": "K3A15x69OvLM"
      },
      "execution_count": null,
      "outputs": []
    },
    {
      "cell_type": "code",
      "source": [
        "#stadistic summary\n",
        "df._get_numeric_data().describe().T"
      ],
      "metadata": {
        "id": "srU0fntuzWWV"
      },
      "execution_count": null,
      "outputs": []
    },
    {
      "cell_type": "code",
      "source": [
        "# Calcula el promedio de los valores no nulos en la columna 'BUSCANDO'\n",
        "promedio_buscando = df['BUSCANDO'].mean()\n",
        "df['BUSCANDO'].fillna(promedio_buscando, inplace=True)\n",
        "\n",
        "# Calcula el promedio de los valores no nulos en la columna 'TSANITAR'\n",
        "promedio_tsanitar = df['TSANITAR'].mean()\n",
        "df['TSANITAR'].fillna(promedio_tsanitar, inplace=True)\n",
        "\n",
        "# Calcula el promedio de los valores no nulos en la columna 'TPERSONA'\n",
        "promedio_tpersona = df['TPERSONA'].mean()\n",
        "df['TPERSONA'].fillna(promedio_tpersona, inplace=True)\n",
        "\n",
        "print(\"Promedio de BUSCANDO: \"+str(promedio_buscando))\n",
        "print(\"Promedio de TSANITAR: \"+str(promedio_tsanitar))\n",
        "print(\"Promedio de TPERSONA: \"+str(promedio_tpersona))\n",
        "\n",
        "#Columnas con nulos\n",
        "for columna in df.columns:\n",
        "    cantidad_nulos = df[columna].isnull().sum()\n",
        "    print(f\"Columna '{columna}': {cantidad_nulos} valores nulos\")\n",
        "\n",
        "df.to_csv('datos_preprocesados.csv', index=False)\n",
        "\n",
        "\n",
        "df = pd.read_csv('datos_preprocesados.csv')\n",
        "\n",
        "\n"
      ],
      "metadata": {
        "colab": {
          "base_uri": "https://localhost:8080/"
        },
        "id": "XbuspMbGRtBN",
        "outputId": "593908b3-f7df-4bb1-9072-0115c0ef294e"
      },
      "execution_count": null,
      "outputs": [
        {
          "output_type": "stream",
          "name": "stdout",
          "text": [
            "Promedio de BUSCANDO: 0.7932545309783712\n",
            "Promedio de TSANITAR: 1.0431172172044838\n",
            "Promedio de TPERSONA: 5.166114647280815\n",
            "Columna 'MUNIC': 0 valores nulos\n",
            "Columna 'ZONA': 0 valores nulos\n",
            "Columna 'COMUNA': 0 valores nulos\n",
            "Columna 'NOMBARRIO': 0 valores nulos\n",
            "Columna 'NOMVEREDA': 0 valores nulos\n",
            "Columna 'TELEFONO': 0 valores nulos\n",
            "Columna 'VIVIENDA': 0 valores nulos\n",
            "Columna 'ENERGIA': 0 valores nulos\n",
            "Columna 'ALCANTA': 0 valores nulos\n",
            "Columna 'GAS': 0 valores nulos\n",
            "Columna 'BASURA': 0 valores nulos\n",
            "Columna 'ACUEDUC': 0 valores nulos\n",
            "Columna 'ESTRATO': 0 valores nulos\n",
            "Columna 'ELIMBASURA': 0 valores nulos\n",
            "Columna 'TCUARTOSVI': 0 valores nulos\n",
            "Columna 'THOGAR': 0 valores nulos\n",
            "Columna 'HOGAR': 0 valores nulos\n",
            "Columna 'TENEVIV': 0 valores nulos\n",
            "Columna 'TCUARTOS': 0 valores nulos\n",
            "Columna 'TDORMIR': 0 valores nulos\n",
            "Columna 'SANITAR': 0 valores nulos\n",
            "Columna 'TSANITAR': 0 valores nulos\n",
            "Columna 'DUCHA': 0 valores nulos\n",
            "Columna 'COCINA': 0 valores nulos\n",
            "Columna 'COCINAN': 0 valores nulos\n",
            "Columna 'ALUMBRA': 0 valores nulos\n",
            "Columna 'USOTELE': 0 valores nulos\n",
            "Columna 'NEVERA': 0 valores nulos\n",
            "Columna 'LAVADORA': 0 valores nulos\n",
            "Columna 'TVCOLOR': 0 valores nulos\n",
            "Columna 'TVCABLE': 0 valores nulos\n",
            "Columna 'CALENTA': 0 valores nulos\n",
            "Columna 'HORNO': 0 valores nulos\n",
            "Columna 'AIRE': 0 valores nulos\n",
            "Columna 'COMPUTADOR': 0 valores nulos\n",
            "Columna 'EQUIPO': 0 valores nulos\n",
            "Columna 'MOTO': 0 valores nulos\n",
            "Columna 'AUTO1': 0 valores nulos\n",
            "Columna 'BIERAICES': 0 valores nulos\n",
            "Columna 'TPERSONA': 0 valores nulos\n",
            "Columna 'TIPODOC': 0 valores nulos\n",
            "Columna 'PARENTES': 0 valores nulos\n",
            "Columna 'ESTCIVIL': 0 valores nulos\n",
            "Columna 'HIJOSDE': 0 valores nulos\n",
            "Columna 'SEXO': 0 valores nulos\n",
            "Columna 'FECHANTO': 0 valores nulos\n",
            "Columna 'DISCAPA': 0 valores nulos\n",
            "Columna 'CARNET': 0 valores nulos\n",
            "Columna 'ASISTE': 0 valores nulos\n",
            "Columna 'GRADO': 0 valores nulos\n",
            "Columna 'NIVEL': 0 valores nulos\n",
            "Columna 'ACTIVI': 0 valores nulos\n",
            "Columna 'BUSCANDO': 0 valores nulos\n",
            "Columna 'PERCIBE': 0 valores nulos\n",
            "Columna 'INGRESOS': 0 valores nulos\n",
            "Columna 'PAGAPOR': 0 valores nulos\n",
            "Columna 'PUNTAJE': 0 valores nulos\n"
          ]
        }
      ]
    },
    {
      "cell_type": "code",
      "source": [
        "## missing values\n",
        "#TE DICE EL TOTAL DE NULOS ENCONTRADOS\n",
        "k = df.isna().sum()\n",
        "nullValues = k[k != 0].sum()\n",
        "k[k!=0]\n",
        "print(\"Cantidad de nulos: \"+str(nullValues))"
      ],
      "metadata": {
        "colab": {
          "base_uri": "https://localhost:8080/"
        },
        "id": "AhdKBfUfpip2",
        "outputId": "0a79bc7c-8f58-4ed7-da65-0d828eb66468"
      },
      "execution_count": null,
      "outputs": [
        {
          "output_type": "stream",
          "name": "stdout",
          "text": [
            "Cantidad de nulos: 0\n"
          ]
        }
      ]
    },
    {
      "cell_type": "code",
      "source": [
        "#Correlación con Pearson\n",
        "import pandas as pd\n",
        "import numpy as np\n",
        "\n",
        "# Cargar tu dataset\n",
        "data = pd.read_csv('datos_preprocesados.csv')\n",
        "\n",
        "# Calcular la correlación de Pearson con la columna objetivo\n",
        "correlation_matrix = data.corr()\n",
        "correlation_with_target = correlation_matrix['PUNTAJE'].abs()\n",
        "\n",
        "# Ordenar las correlaciones en orden descendente\n",
        "sorted_correlations = correlation_with_target.sort_values(ascending=False)\n",
        "print(sorted_correlations)\n",
        "\n",
        "# Seleccionar las 30 variables más correlacionadas\n",
        "num_variables_a_mantener = 30\n",
        "variables_relevantes = sorted_correlations.index[:num_variables_a_mantener]\n",
        "\n",
        "print(variables_relevantes)\n",
        "# # Eliminar las variables menos relevantes\n",
        "# data = data[variables_relevantes]\n"
      ],
      "metadata": {
        "colab": {
          "base_uri": "https://localhost:8080/"
        },
        "id": "4fS7xPkQTP85",
        "outputId": "c696fe70-9d00-4ecf-85c1-4b6bb2a1186e"
      },
      "execution_count": null,
      "outputs": [
        {
          "output_type": "stream",
          "name": "stderr",
          "text": [
            "<ipython-input-214-b1175b8fc3da>:10: FutureWarning: The default value of numeric_only in DataFrame.corr is deprecated. In a future version, it will default to False. Select only valid columns or specify the value of numeric_only to silence this warning.\n",
            "  correlation_matrix = data.corr()\n"
          ]
        },
        {
          "output_type": "stream",
          "name": "stdout",
          "text": [
            "PUNTAJE       1.000000\n",
            "ESTRATO       0.352149\n",
            "TPERSONA      0.335194\n",
            "LAVADORA      0.329305\n",
            "ZONA          0.318070\n",
            "TCUARTOS      0.307183\n",
            "VIVIENDA      0.299863\n",
            "NIVEL         0.299811\n",
            "ALCANTA       0.285275\n",
            "TVCABLE       0.282250\n",
            "COMPUTADOR    0.271075\n",
            "SANITAR       0.270883\n",
            "NEVERA        0.261723\n",
            "GRADO         0.257657\n",
            "GAS           0.256582\n",
            "TELEFONO      0.248966\n",
            "HORNO         0.229138\n",
            "EQUIPO        0.224590\n",
            "TDORMIR       0.211229\n",
            "COCINA        0.209659\n",
            "CALENTA       0.199708\n",
            "INGRESOS      0.195066\n",
            "DUCHA         0.188893\n",
            "ACUEDUC       0.186207\n",
            "THOGAR        0.165095\n",
            "TCUARTOSVI    0.162389\n",
            "TIPODOC       0.159893\n",
            "TSANITAR      0.158085\n",
            "MOTO          0.157553\n",
            "TVCOLOR       0.151427\n",
            "HIJOSDE       0.142096\n",
            "PERCIBE       0.139172\n",
            "AUTO1         0.132105\n",
            "USOTELE       0.130389\n",
            "ESTCIVIL      0.127800\n",
            "HOGAR         0.126723\n",
            "COCINAN       0.120431\n",
            "PARENTES      0.113926\n",
            "ACTIVI        0.079633\n",
            "DISCAPA       0.077668\n",
            "BASURA        0.053970\n",
            "CARNET        0.051045\n",
            "ELIMBASURA    0.050493\n",
            "AIRE          0.042774\n",
            "TENEVIV       0.042205\n",
            "BIERAICES     0.039335\n",
            "COMUNA        0.035532\n",
            "ENERGIA       0.035097\n",
            "SEXO          0.031334\n",
            "ALUMBRA       0.030770\n",
            "ASISTE        0.020289\n",
            "BUSCANDO      0.015129\n",
            "PAGAPOR       0.009908\n",
            "MUNIC              NaN\n",
            "Name: PUNTAJE, dtype: float64\n",
            "Index(['PUNTAJE', 'ESTRATO', 'TPERSONA', 'LAVADORA', 'ZONA', 'TCUARTOS',\n",
            "       'VIVIENDA', 'NIVEL', 'ALCANTA', 'TVCABLE', 'COMPUTADOR', 'SANITAR',\n",
            "       'NEVERA', 'GRADO', 'GAS', 'TELEFONO', 'HORNO', 'EQUIPO', 'TDORMIR',\n",
            "       'COCINA', 'CALENTA', 'INGRESOS', 'DUCHA', 'ACUEDUC', 'THOGAR',\n",
            "       'TCUARTOSVI', 'TIPODOC', 'TSANITAR', 'MOTO', 'TVCOLOR'],\n",
            "      dtype='object')\n"
          ]
        }
      ]
    },
    {
      "cell_type": "code",
      "source": [
        "import pandas as pd\n",
        "\n",
        "\n",
        "df = pd.read_csv('datos_preprocesados.csv')\n",
        "\n",
        "# Selecciona las columnas deseadas\n",
        "columnas_seleccionadas = ['PUNTAJE', 'ESTRATO', 'TPERSONA', 'LAVADORA', 'ZONA', 'TCUARTOS',\n",
        "       'VIVIENDA', 'NIVEL', 'ALCANTA', 'TVCABLE', 'COMPUTADOR', 'SANITAR',\n",
        "       'NEVERA', 'GRADO', 'GAS', 'TELEFONO', 'HORNO', 'EQUIPO', 'TDORMIR',\n",
        "       'COCINA', 'CALENTA', 'INGRESOS', 'DUCHA', 'ACUEDUC', 'THOGAR',\n",
        "       'TCUARTOSVI', 'TIPODOC', 'TSANITAR', 'MOTO', 'TVCOLOR']\n",
        "\n",
        "df_model = df[columnas_seleccionadas]\n",
        "\n",
        "# Guarda el DataFrame con las columnas seleccionadas en un nuevo archivo CSV\n",
        "df_model.to_csv('datos_modelo.csv', index=False)\n",
        "\n",
        "df_model.shape\n"
      ],
      "metadata": {
        "colab": {
          "base_uri": "https://localhost:8080/"
        },
        "id": "oy6RrckNVagp",
        "outputId": "41e0ce0d-32ce-41ef-a979-9f3801bf3350"
      },
      "execution_count": null,
      "outputs": [
        {
          "output_type": "execute_result",
          "data": {
            "text/plain": [
              "(447871, 30)"
            ]
          },
          "metadata": {},
          "execution_count": 216
        }
      ]
    },
    {
      "cell_type": "code",
      "source": [
        "#MODELOS\n",
        "\n",
        "import pandas as pd\n",
        "from sklearn.model_selection import train_test_split\n",
        "\n",
        "# Cargar el archivo CSV en un DataFrame\n",
        "df = pd.read_csv('datos_modelo.csv')\n",
        "\n",
        "# Dividir los datos en conjuntos de entrenamiento (75%) y prueba (25%)\n",
        "X = df.drop('PUNTAJE', axis=1)  # Características\n",
        "y = df['PUNTAJE']  # Variable objetivo\n",
        "\n",
        "X_train, X_test, y_train, y_test = train_test_split(X, y, test_size=0.25, random_state=42)\n",
        "\n",
        "from sklearn.linear_model import LinearRegression\n",
        "from sklearn.tree import DecisionTreeRegressor\n",
        "from sklearn.ensemble import RandomForestRegressor\n",
        "\n",
        "modelos = {\n",
        "    'Regresión Lineal': LinearRegression(),\n",
        "    'Árbol de Decisión': DecisionTreeRegressor(),\n",
        "    'Bosque Aleatorio': RandomForestRegressor()\n",
        "}\n",
        "from sklearn.metrics import mean_squared_error, r2_score\n",
        "\n",
        "resultados = []\n",
        "\n",
        "for nombre, modelo in modelos.items():\n",
        "    modelo.fit(X_train, y_train)\n",
        "    y_pred = modelo.predict(X_test)\n",
        "\n",
        "    mse = mean_squared_error(y_test, y_pred)\n",
        "    r2 = r2_score(y_test, y_pred)\n",
        "    hiperparametros = modelo.get_params()  # Obtener hiperparámetros\n",
        "\n",
        "\n",
        "    resultados.append({'Modelo': nombre, 'Mean Squared Error (MSE)': mse, 'R-squared (R^2)': r2, 'Hiperparámetros': hiperparametros})\n",
        "\n",
        "resultados_df = pd.DataFrame(resultados)\n",
        "print(resultados_df)\n",
        "\n"
      ],
      "metadata": {
        "colab": {
          "base_uri": "https://localhost:8080/"
        },
        "id": "aULogXSVUhpK",
        "outputId": "67a76813-80ec-4ce5-cc5f-5f0cbe5983a3"
      },
      "execution_count": null,
      "outputs": [
        {
          "output_type": "stream",
          "name": "stdout",
          "text": [
            "              Modelo  Mean Squared Error (MSE)  R-squared (R^2)  \\\n",
            "0   Regresión Lineal                113.592857         0.538082   \n",
            "1  Árbol de Decisión                146.713812         0.403398   \n",
            "2   Bosque Aleatorio                 98.516431         0.599390   \n",
            "\n",
            "                                     Hiperparámetros  \n",
            "0  {'copy_X': True, 'fit_intercept': True, 'n_job...  \n",
            "1  {'ccp_alpha': 0.0, 'criterion': 'squared_error...  \n",
            "2  {'bootstrap': True, 'ccp_alpha': 0.0, 'criteri...  \n"
          ]
        }
      ]
    },
    {
      "cell_type": "code",
      "source": [
        "import pandas as pd\n",
        "from sklearn.model_selection import train_test_split\n",
        "from sklearn.svm import SVR\n",
        "from sklearn.neural_network import MLPRegressor\n",
        "from sklearn.metrics import mean_squared_error, r2_score\n",
        "\n",
        "# Cargar el archivo CSV en un DataFrame\n",
        "df = pd.read_csv('datos_modelo.csv')\n",
        "\n",
        "# Dividir los datos en conjuntos de entrenamiento (75%) y prueba (25%)\n",
        "X = df.drop('PUNTAJE', axis=1)  # Características\n",
        "y = df['PUNTAJE']  # Variable objetivo\n",
        "\n",
        "X_train, X_test, y_train, y_test = train_test_split(X, y, test_size=0.25, random_state=42)\n",
        "\n",
        "# Entrenar modelos adicionales\n",
        "model_svm = SVR(kernel='linear')  # SVM lineal\n",
        "model_svm.fit(X_train, y_train)\n",
        "\n",
        "model_ann = MLPRegressor(hidden_layer_sizes=(100, 50), activation='relu', max_iter=1000, random_state=42)  # Red Neuronal Artificial\n",
        "model_ann.fit(X_train, y_train)\n",
        "\n",
        "# Evaluar los modelos\n",
        "y_pred_svm = model_svm.predict(X_test)\n",
        "y_pred_ann = model_ann.predict(X_test)\n",
        "\n",
        "mse_svm = mean_squared_error(y_test, y_pred_svm)\n",
        "r2_svm = r2_score(y_test, y_pred_svm)\n",
        "\n",
        "mse_ann = mean_squared_error(y_test, y_pred_ann)\n",
        "r2_ann = r2_score(y_test, y_pred_ann)\n",
        "\n",
        "print(\"Resultados del modelo SVM:\")\n",
        "print(f\"Mean Squared Error (MSE): {mse_svm}\")\n",
        "print(f\"R-squared (R^2): {r2_svm}\")\n",
        "\n",
        "print(\"\\nResultados del modelo Red Neuronal Artificial (ANN):\")\n",
        "print(f\"Mean Squared Error (MSE): {mse_ann}\")\n",
        "print(f\"R-squared (R^2): {r2_ann}\")\n"
      ],
      "metadata": {
        "id": "ppf1JhY_c_M7"
      },
      "execution_count": null,
      "outputs": []
    }
  ]
}